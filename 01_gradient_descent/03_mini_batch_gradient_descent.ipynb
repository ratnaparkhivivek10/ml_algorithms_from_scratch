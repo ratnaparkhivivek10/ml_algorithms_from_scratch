{
 "cells": [
  {
   "cell_type": "markdown",
   "metadata": {},
   "source": [
    "### Mini-batch Gradient Descent"
   ]
  },
  {
   "cell_type": "markdown",
   "metadata": {},
   "source": [
    "The training set is divided into number of batches of perticular size and cost of batch used to update the weights."
   ]
  },
  {
   "cell_type": "markdown",
   "metadata": {},
   "source": [
    "<img src=img/mini_batch_gradient_descent.png width=300 height=300 align=\"left\">"
   ]
  },
  {
   "cell_type": "code",
   "execution_count": 1,
   "metadata": {},
   "outputs": [],
   "source": [
    "import numpy as np"
   ]
  },
  {
   "cell_type": "code",
   "execution_count": 2,
   "metadata": {},
   "outputs": [],
   "source": [
    "def mini_batch_gradient_descent(X, y, theta, alpha, epoch, batch_size):\n",
    "    for _ in range(epoch):\n",
    "        for i in range(0, len(X), batch_size):\n",
    "            \n",
    "            x_batch = X[i:i+batch_size]\n",
    "            y_batch = y[i:i+batch_size]\n",
    "            \n",
    "            y_hat = np.dot(x_batch, theta)\n",
    "            # (1.0/batch_size) * np.dot(x_batch.T, y_hat - y_batch) - this is derivative of cost function\n",
    "            theta = theta - alpha * (1.0/batch_size) * np.dot(x_batch.T, y_hat - y_batch)\n",
    "    return theta"
   ]
  },
  {
   "cell_type": "code",
   "execution_count": 3,
   "metadata": {},
   "outputs": [],
   "source": [
    "# Input features\n",
    "X = np.array([\n",
    "    [1, 2, 1],\n",
    "    [1, 2, 3],\n",
    "    [2, 1, 1],\n",
    "    [3, 1, 1],\n",
    "    [2, 3, 1]\n",
    "])\n",
    "# Output targets\n",
    "y = np.array([1, 2, 3, 4, 5])\n",
    "\n",
    "# Test set\n",
    "test = np.array([1, 2, 1])"
   ]
  },
  {
   "cell_type": "code",
   "execution_count": 4,
   "metadata": {},
   "outputs": [],
   "source": [
    "# Number of epochs\n",
    "epoch = 1000\n",
    "# Weights\n",
    "theta = np.array([0.1, 0.1, 0.1])\n",
    "# Learning rate\n",
    "alpha = 0.001\n",
    "# Batch size\n",
    "batch_size = 2"
   ]
  },
  {
   "cell_type": "code",
   "execution_count": 5,
   "metadata": {},
   "outputs": [],
   "source": [
    "# Learned weights\n",
    "new_theta = mini_batch_gradient_descent(X, y, theta, alpha, epoch, batch_size)"
   ]
  },
  {
   "cell_type": "code",
   "execution_count": 6,
   "metadata": {},
   "outputs": [
    {
     "name": "stdout",
     "output_type": "stream",
     "text": [
      "2.2783745069087784\n"
     ]
    }
   ],
   "source": [
    "# Test on learned weights\n",
    "predicted = np.dot(test, new_theta)\n",
    "print(predicted)"
   ]
  }
 ],
 "metadata": {
  "kernelspec": {
   "display_name": "Python 3",
   "language": "python",
   "name": "python3"
  },
  "language_info": {
   "codemirror_mode": {
    "name": "ipython",
    "version": 3
   },
   "file_extension": ".py",
   "mimetype": "text/x-python",
   "name": "python",
   "nbconvert_exporter": "python",
   "pygments_lexer": "ipython3",
   "version": "3.7.1"
  }
 },
 "nbformat": 4,
 "nbformat_minor": 2
}
