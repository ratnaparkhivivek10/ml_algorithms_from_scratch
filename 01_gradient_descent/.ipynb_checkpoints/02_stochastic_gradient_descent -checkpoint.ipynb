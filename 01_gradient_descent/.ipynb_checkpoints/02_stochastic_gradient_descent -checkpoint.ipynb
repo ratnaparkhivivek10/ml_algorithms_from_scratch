{
 "cells": [
  {
   "cell_type": "markdown",
   "metadata": {},
   "source": [
    "### Stochastic gradient descent"
   ]
  },
  {
   "cell_type": "markdown",
   "metadata": {},
   "source": [
    "The error of each data point is used to update the weights of hypothesis function"
   ]
  },
  {
   "cell_type": "markdown",
   "metadata": {},
   "source": [
    "<img src=https://lh3.googleusercontent.com/-KlBfHb5h4ss/WJ3K5qVwraI/AAAAAAAABwk/5WHDiQ7Ejvgk5YPOvdOrLKXlwqqIQymuQCL0B/h487/6.jpg width=300 height=300 align=\"left\">"
   ]
  },
  {
   "cell_type": "code",
   "execution_count": 1,
   "metadata": {},
   "outputs": [],
   "source": [
    "import numpy as np"
   ]
  },
  {
   "cell_type": "code",
   "execution_count": 2,
   "metadata": {},
   "outputs": [],
   "source": [
    "def stochastic_gradient_descent(X, y, theta, alpha, epoch):\n",
    "    '''\n",
    "    X - independent variables\n",
    "    y - dependent variables\n",
    "    theta - initial coefficients\n",
    "    alpha - learning rate\n",
    "    epoch - number of iterations\n",
    "    '''    \n",
    "    for _ in range(epoch):\n",
    "        for feature_vector, label in zip(X, y):\n",
    "            y_hat = np.dot(feature_vector, theta)\n",
    "            theta = theta - alpha * np.dot(feature_vector.T, y_hat - label)\n",
    "            \n",
    "    return theta"
   ]
  },
  {
   "cell_type": "code",
   "execution_count": 3,
   "metadata": {},
   "outputs": [],
   "source": [
    "# Input features\n",
    "X = np.array([\n",
    "    [1, 2, 1],\n",
    "    [1, 2, 3],\n",
    "    [2, 1, 1],\n",
    "    [3, 1, 1],\n",
    "    [2, 3, 1]\n",
    "])\n",
    "# Output targets\n",
    "y = np.array([1, 2, 3, 4, 5])\n",
    "\n",
    "# Test set\n",
    "test = np.array([1, 2, 1])"
   ]
  },
  {
   "cell_type": "code",
   "execution_count": 4,
   "metadata": {},
   "outputs": [],
   "source": [
    "# Number of epochs\n",
    "epoch = 1000\n",
    "# Weights\n",
    "theta = np.array([0.1, 0.1, 0.1])\n",
    "# Learning rate\n",
    "alpha = 0.001"
   ]
  },
  {
   "cell_type": "code",
   "execution_count": 5,
   "metadata": {},
   "outputs": [],
   "source": [
    "# Learned weights\n",
    "new_theta = stochastic_gradient_descent(X, y, theta, alpha, epoch)"
   ]
  },
  {
   "cell_type": "code",
   "execution_count": 6,
   "metadata": {},
   "outputs": [
    {
     "name": "stdout",
     "output_type": "stream",
     "text": [
      "2.299836749477829\n"
     ]
    }
   ],
   "source": [
    "# Test on learned weights\n",
    "predicted = np.dot(test, new_theta)\n",
    "print(predicted)"
   ]
  }
 ],
 "metadata": {
  "kernelspec": {
   "display_name": "Python 3",
   "language": "python",
   "name": "python3"
  },
  "language_info": {
   "codemirror_mode": {
    "name": "ipython",
    "version": 3
   },
   "file_extension": ".py",
   "mimetype": "text/x-python",
   "name": "python",
   "nbconvert_exporter": "python",
   "pygments_lexer": "ipython3",
   "version": "3.7.1"
  }
 },
 "nbformat": 4,
 "nbformat_minor": 2
}
