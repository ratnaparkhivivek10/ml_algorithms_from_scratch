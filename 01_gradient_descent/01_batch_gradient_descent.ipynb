{
 "cells": [
  {
   "cell_type": "markdown",
   "metadata": {},
   "source": [
    "### Batch Gradient Descent"
   ]
  },
  {
   "cell_type": "markdown",
   "metadata": {},
   "source": [
    "Implementation of batch(aka vanilla) gradient descent with Python and Numpy"
   ]
  },
  {
   "cell_type": "code",
   "execution_count": 7,
   "metadata": {},
   "outputs": [
    {
     "ename": "SyntaxError",
     "evalue": "invalid syntax (<ipython-input-7-ecea435c99c2>, line 1)",
     "output_type": "error",
     "traceback": [
      "\u001b[1;36m  File \u001b[1;32m\"<ipython-input-7-ecea435c99c2>\"\u001b[1;36m, line \u001b[1;32m1\u001b[0m\n\u001b[1;33m    <img src=img/batch_gradient_descent.png width=300 height=300 align=\"left\">\u001b[0m\n\u001b[1;37m    ^\u001b[0m\n\u001b[1;31mSyntaxError\u001b[0m\u001b[1;31m:\u001b[0m invalid syntax\n"
     ]
    }
   ],
   "source": [
    "<img src=img/batch_gradient_descent.png width=300 height=300 align=\"left\">"
   ]
  },
  {
   "cell_type": "code",
   "execution_count": 1,
   "metadata": {},
   "outputs": [],
   "source": [
    "import numpy as np"
   ]
  },
  {
   "cell_type": "code",
   "execution_count": 2,
   "metadata": {},
   "outputs": [],
   "source": [
    "def batch_gradient_descent(X, y, theta, alpha, epoch):\n",
    "    m = len(y)\n",
    "    for _ in range(epoch):\n",
    "        '''\n",
    "        X - independent variables\n",
    "        y - dependent variables\n",
    "        theta - initial coefficients\n",
    "        alpha - learning rate\n",
    "        epoch - number of iterations\n",
    "        '''\n",
    "        y_hat = np.dot(X, theta)\n",
    "        # (1.0/m) * np.dot(X.T, y_hat - y) - this is derivative of cost function\n",
    "        theta = theta - alpha * (1.0/m) * np.dot(X.T, y_hat - y)\n",
    "        \n",
    "    return theta"
   ]
  },
  {
   "cell_type": "code",
   "execution_count": 3,
   "metadata": {},
   "outputs": [],
   "source": [
    "# Input features\n",
    "X = np.array([\n",
    "    [1, 2, 1],\n",
    "    [1, 2, 3],\n",
    "    [2, 1, 1],\n",
    "    [3, 1, 1],\n",
    "    [2, 3, 1]\n",
    "])\n",
    "# Output targets\n",
    "y = np.array([1, 2, 3, 4, 5])\n",
    "\n",
    "# Test set\n",
    "test = np.array([1, 2, 1])"
   ]
  },
  {
   "cell_type": "code",
   "execution_count": 4,
   "metadata": {},
   "outputs": [],
   "source": [
    "# Number of epochs\n",
    "epoch = 1000\n",
    "# Weights\n",
    "theta = np.array([0.1, 0.1, 0.1])\n",
    "# Learning rate\n",
    "alpha = 0.001"
   ]
  },
  {
   "cell_type": "code",
   "execution_count": 5,
   "metadata": {},
   "outputs": [],
   "source": [
    "# Learned weights\n",
    "new_theta = batch_gradient_descent(X, y, theta, alpha, epoch)"
   ]
  },
  {
   "cell_type": "code",
   "execution_count": 6,
   "metadata": {},
   "outputs": [
    {
     "name": "stdout",
     "output_type": "stream",
     "text": [
      "2.312317101267136\n"
     ]
    }
   ],
   "source": [
    "# Test on learned weights\n",
    "predicted = np.dot(test, new_theta)\n",
    "print(predicted)"
   ]
  }
 ],
 "metadata": {
  "kernelspec": {
   "display_name": "Python 3",
   "language": "python",
   "name": "python3"
  },
  "language_info": {
   "codemirror_mode": {
    "name": "ipython",
    "version": 3
   },
   "file_extension": ".py",
   "mimetype": "text/x-python",
   "name": "python",
   "nbconvert_exporter": "python",
   "pygments_lexer": "ipython3",
   "version": "3.7.1"
  }
 },
 "nbformat": 4,
 "nbformat_minor": 2
}
