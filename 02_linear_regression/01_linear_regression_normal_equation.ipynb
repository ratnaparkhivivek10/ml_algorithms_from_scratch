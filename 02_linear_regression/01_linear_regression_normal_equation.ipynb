{
 "cells": [
  {
   "cell_type": "markdown",
   "metadata": {},
   "source": [
    "### Linear regression using normal equation"
   ]
  },
  {
   "cell_type": "code",
   "execution_count": 1,
   "metadata": {},
   "outputs": [],
   "source": [
    "# Import required libraries\n",
    "import numpy as np\n",
    "import matplotlib.pyplot as plt"
   ]
  },
  {
   "cell_type": "code",
   "execution_count": 2,
   "metadata": {},
   "outputs": [],
   "source": [
    "# Create regression class for normal equation\n",
    "class LinearRegression():\n",
    "    def __init__(self):\n",
    "        self.weights = None\n",
    "    \n",
    "    def fit(self, X, y, reg):\n",
    "        '''\n",
    "        X: Independent variables\n",
    "        y: Dependent variables\n",
    "        reg: regularization coeficient\n",
    "        '''\n",
    "        regularization_term = reg * np.identity(len(X[0])) # Create identify matrix of size X[0]\n",
    "        self.weights = np.dot(np.dot(np.linalg.inv(np.dot(X.T, X) + regularization_term), X.T), y)\n",
    "    \n",
    "    def predict(self, test):\n",
    "        return np.sum(np.dot(self.weights, test))"
   ]
  },
  {
   "cell_type": "code",
   "execution_count": 3,
   "metadata": {},
   "outputs": [],
   "source": [
    "# training dataset\n",
    "X = np.array([[1, 2], [4, 5], [2, 1], [5,6]])\n",
    "y = np.array([0.1, 1.5, 0.2, 2])\n",
    "\n",
    "# test dataset\n",
    "test = np.array([[1, 2], [3, 3]])"
   ]
  },
  {
   "cell_type": "code",
   "execution_count": 4,
   "metadata": {},
   "outputs": [],
   "source": [
    "# Create linear regression model\n",
    "model = LinearRegression()"
   ]
  },
  {
   "cell_type": "code",
   "execution_count": 5,
   "metadata": {},
   "outputs": [],
   "source": [
    "# Fit the data into the model\n",
    "model.fit(X, y, 0.001)"
   ]
  },
  {
   "cell_type": "code",
   "execution_count": 6,
   "metadata": {},
   "outputs": [
    {
     "name": "stdout",
     "output_type": "stream",
     "text": [
      "[0.12002548 0.20330941]\n"
     ]
    }
   ],
   "source": [
    "# Learned weights\n",
    "print(model.weights)"
   ]
  },
  {
   "cell_type": "code",
   "execution_count": 7,
   "metadata": {},
   "outputs": [
    {
     "data": {
      "text/plain": [
       "1.5799328828099322"
      ]
     },
     "execution_count": 7,
     "metadata": {},
     "output_type": "execute_result"
    }
   ],
   "source": [
    "# Run the modle on test dataset\n",
    "model.predict(test)"
   ]
  }
 ],
 "metadata": {
  "kernelspec": {
   "display_name": "Python 3",
   "language": "python",
   "name": "python3"
  },
  "language_info": {
   "codemirror_mode": {
    "name": "ipython",
    "version": 3
   },
   "file_extension": ".py",
   "mimetype": "text/x-python",
   "name": "python",
   "nbconvert_exporter": "python",
   "pygments_lexer": "ipython3",
   "version": "3.6.7"
  }
 },
 "nbformat": 4,
 "nbformat_minor": 2
}
