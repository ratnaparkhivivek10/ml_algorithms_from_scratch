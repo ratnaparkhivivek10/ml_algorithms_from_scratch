{
 "cells": [
  {
   "cell_type": "markdown",
   "metadata": {},
   "source": [
    "### Categorical cross entropy"
   ]
  },
  {
   "cell_type": "markdown",
   "metadata": {},
   "source": [
    "The categorical cross entropy loss used in multiclass classifier. It is difference between two probability distributions and can be calculated using below formula.<br>\n",
    "\n",
    "$$-\\sum_{c=1}^My_{o,c}\\log(p_{o,c})$$"
   ]
  },
  {
   "cell_type": "code",
   "execution_count": 1,
   "metadata": {},
   "outputs": [],
   "source": [
    "import numpy as np"
   ]
  },
  {
   "cell_type": "markdown",
   "metadata": {},
   "source": [
    "To avoid log zero calculation we have to clip the values to min and max."
   ]
  },
  {
   "cell_type": "code",
   "execution_count": 2,
   "metadata": {},
   "outputs": [],
   "source": [
    "def categorical_cross_entropy(actual, predicted):\n",
    "    '''\n",
    "    -sum(p*log(q))\n",
    "    '''\n",
    "    min_ = 1e-7\n",
    "    max_ = 1-1e-7\n",
    "    \n",
    "    actual = np.clip(actual, min_, max_)\n",
    "    predicted = np.clip(predicted, min_, max_)\n",
    "    \n",
    "    return -np.sum(\n",
    "        (actual*np.log(predicted))\n",
    "    )"
   ]
  },
  {
   "cell_type": "code",
   "execution_count": 3,
   "metadata": {},
   "outputs": [],
   "source": [
    "actual = np.array(\n",
    "    [\n",
    "        [1, 0, 0],\n",
    "        [0, 1, 0],\n",
    "        [0, 0, 1]\n",
    "    ]\n",
    ")\n",
    "\n",
    "predicted = np.array(\n",
    "    [\n",
    "        [1, 0, 0],\n",
    "        [0, 1, 0],\n",
    "        [0, 0, 1]\n",
    "    ]\n",
    ")"
   ]
  },
  {
   "cell_type": "code",
   "execution_count": 4,
   "metadata": {},
   "outputs": [],
   "source": [
    "loss = categorical_cross_entropy(actual, predicted)\n",
    "loss_formatted = '{:.10f}'.format(loss)"
   ]
  },
  {
   "cell_type": "code",
   "execution_count": 5,
   "metadata": {},
   "outputs": [
    {
     "name": "stdout",
     "output_type": "stream",
     "text": [
      "9.970857375417085e-06\n",
      "0.0000099709\n"
     ]
    }
   ],
   "source": [
    "print(loss)\n",
    "print(loss_formatted)"
   ]
  }
 ],
 "metadata": {
  "kernelspec": {
   "display_name": "Python 3",
   "language": "python",
   "name": "python3"
  },
  "language_info": {
   "codemirror_mode": {
    "name": "ipython",
    "version": 3
   },
   "file_extension": ".py",
   "mimetype": "text/x-python",
   "name": "python",
   "nbconvert_exporter": "python",
   "pygments_lexer": "ipython3",
   "version": "3.6.8"
  }
 },
 "nbformat": 4,
 "nbformat_minor": 2
}
